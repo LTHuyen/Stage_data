{
 "cells": [
  {
   "cell_type": "code",
   "execution_count": 16,
   "metadata": {},
   "outputs": [],
   "source": [
    "import numpy as np\n",
    "import pandas as pd\n",
    "path = \"../ESX01_2706/ESX01_2706_S.csv\"\n",
    "df = pd.read_csv(path, delimiter=\";\", decimal=',')"
   ]
  },
  {
   "cell_type": "code",
   "execution_count": 2,
   "metadata": {},
   "outputs": [
    {
     "data": {
      "text/html": [
       "<div>\n",
       "<style scoped>\n",
       "    .dataframe tbody tr th:only-of-type {\n",
       "        vertical-align: middle;\n",
       "    }\n",
       "\n",
       "    .dataframe tbody tr th {\n",
       "        vertical-align: top;\n",
       "    }\n",
       "\n",
       "    .dataframe thead th {\n",
       "        text-align: right;\n",
       "    }\n",
       "</style>\n",
       "<table border=\"1\" class=\"dataframe\">\n",
       "  <thead>\n",
       "    <tr style=\"text-align: right;\">\n",
       "      <th></th>\n",
       "      <th>Time</th>\n",
       "      <th>CPU usage</th>\n",
       "      <th>Used memory</th>\n",
       "      <th>Number of bytes received</th>\n",
       "      <th>Number of bytes transmitted</th>\n",
       "      <th>RLATE</th>\n",
       "      <th>WLATE</th>\n",
       "    </tr>\n",
       "  </thead>\n",
       "  <tbody>\n",
       "    <tr>\n",
       "      <th>0</th>\n",
       "      <td>2019-06-27T00:00:00+02:00</td>\n",
       "      <td>1.022600e+10</td>\n",
       "      <td>2.250000e+11</td>\n",
       "      <td>5877248.0</td>\n",
       "      <td>31498752.0</td>\n",
       "      <td>8.0</td>\n",
       "      <td>7.0</td>\n",
       "    </tr>\n",
       "    <tr>\n",
       "      <th>1</th>\n",
       "      <td>2019-06-27T00:02:00+02:00</td>\n",
       "      <td>9.362500e+09</td>\n",
       "      <td>2.250000e+11</td>\n",
       "      <td>4866560.0</td>\n",
       "      <td>5431296.0</td>\n",
       "      <td>49.5</td>\n",
       "      <td>72.5</td>\n",
       "    </tr>\n",
       "    <tr>\n",
       "      <th>2</th>\n",
       "      <td>2019-06-27T00:04:00+02:00</td>\n",
       "      <td>8.490000e+09</td>\n",
       "      <td>2.250000e+11</td>\n",
       "      <td>5247488.0</td>\n",
       "      <td>5050368.0</td>\n",
       "      <td>47.0</td>\n",
       "      <td>20.0</td>\n",
       "    </tr>\n",
       "    <tr>\n",
       "      <th>3</th>\n",
       "      <td>2019-06-27T00:06:00+02:00</td>\n",
       "      <td>9.079000e+09</td>\n",
       "      <td>2.250000e+11</td>\n",
       "      <td>6056960.0</td>\n",
       "      <td>6340608.0</td>\n",
       "      <td>54.5</td>\n",
       "      <td>36.5</td>\n",
       "    </tr>\n",
       "    <tr>\n",
       "      <th>4</th>\n",
       "      <td>2019-06-27T00:08:00+02:00</td>\n",
       "      <td>7.504000e+09</td>\n",
       "      <td>2.250000e+11</td>\n",
       "      <td>4986368.0</td>\n",
       "      <td>5183488.0</td>\n",
       "      <td>11.0</td>\n",
       "      <td>14.5</td>\n",
       "    </tr>\n",
       "  </tbody>\n",
       "</table>\n",
       "</div>"
      ],
      "text/plain": [
       "                        Time     CPU usage   Used memory  \\\n",
       "0  2019-06-27T00:00:00+02:00  1.022600e+10  2.250000e+11   \n",
       "1  2019-06-27T00:02:00+02:00  9.362500e+09  2.250000e+11   \n",
       "2  2019-06-27T00:04:00+02:00  8.490000e+09  2.250000e+11   \n",
       "3  2019-06-27T00:06:00+02:00  9.079000e+09  2.250000e+11   \n",
       "4  2019-06-27T00:08:00+02:00  7.504000e+09  2.250000e+11   \n",
       "\n",
       "   Number of bytes received  Number of bytes transmitted  RLATE  WLATE  \n",
       "0                 5877248.0                   31498752.0    8.0    7.0  \n",
       "1                 4866560.0                    5431296.0   49.5   72.5  \n",
       "2                 5247488.0                    5050368.0   47.0   20.0  \n",
       "3                 6056960.0                    6340608.0   54.5   36.5  \n",
       "4                 4986368.0                    5183488.0   11.0   14.5  "
      ]
     },
     "execution_count": 2,
     "metadata": {},
     "output_type": "execute_result"
    }
   ],
   "source": [
    "df.head()"
   ]
  },
  {
   "cell_type": "code",
   "execution_count": 3,
   "metadata": {},
   "outputs": [
    {
     "data": {
      "text/plain": [
       "Time                            object\n",
       "CPU usage                      float64\n",
       "Used memory                    float64\n",
       "Number of bytes received       float64\n",
       "Number of bytes transmitted    float64\n",
       "RLATE                          float64\n",
       "WLATE                          float64\n",
       "dtype: object"
      ]
     },
     "execution_count": 3,
     "metadata": {},
     "output_type": "execute_result"
    }
   ],
   "source": [
    "df.dtypes"
   ]
  },
  {
   "cell_type": "code",
   "execution_count": 4,
   "metadata": {},
   "outputs": [],
   "source": [
    "x=df['Time'][0]"
   ]
  },
  {
   "cell_type": "code",
   "execution_count": 5,
   "metadata": {},
   "outputs": [
    {
     "data": {
      "text/plain": [
       "str"
      ]
     },
     "execution_count": 5,
     "metadata": {},
     "output_type": "execute_result"
    }
   ],
   "source": [
    "type(x)"
   ]
  },
  {
   "cell_type": "code",
   "execution_count": 6,
   "metadata": {},
   "outputs": [
    {
     "data": {
      "text/plain": [
       "'2019-06-27T00:00:00+02:00'"
      ]
     },
     "execution_count": 6,
     "metadata": {},
     "output_type": "execute_result"
    }
   ],
   "source": [
    "x"
   ]
  },
  {
   "cell_type": "code",
   "execution_count": 7,
   "metadata": {},
   "outputs": [
    {
     "data": {
      "text/plain": [
       "['00', '00', '00+02', '00']"
      ]
     },
     "execution_count": 7,
     "metadata": {},
     "output_type": "execute_result"
    }
   ],
   "source": [
    "x.split('T')[-1].split(':')"
   ]
  },
  {
   "cell_type": "code",
   "execution_count": 8,
   "metadata": {},
   "outputs": [
    {
     "data": {
      "text/html": [
       "<div>\n",
       "<style scoped>\n",
       "    .dataframe tbody tr th:only-of-type {\n",
       "        vertical-align: middle;\n",
       "    }\n",
       "\n",
       "    .dataframe tbody tr th {\n",
       "        vertical-align: top;\n",
       "    }\n",
       "\n",
       "    .dataframe thead th {\n",
       "        text-align: right;\n",
       "    }\n",
       "</style>\n",
       "<table border=\"1\" class=\"dataframe\">\n",
       "  <thead>\n",
       "    <tr style=\"text-align: right;\">\n",
       "      <th></th>\n",
       "      <th>Time</th>\n",
       "      <th>CPU usage</th>\n",
       "      <th>Used memory</th>\n",
       "      <th>Number of bytes received</th>\n",
       "      <th>Number of bytes transmitted</th>\n",
       "      <th>RLATE</th>\n",
       "      <th>WLATE</th>\n",
       "      <th>is_in_8and12</th>\n",
       "    </tr>\n",
       "  </thead>\n",
       "  <tbody>\n",
       "    <tr>\n",
       "      <th>240</th>\n",
       "      <td>2019-06-27T08:00:00+02:00</td>\n",
       "      <td>1.387900e+10</td>\n",
       "      <td>2.250000e+11</td>\n",
       "      <td>1658368.0</td>\n",
       "      <td>2077696.0</td>\n",
       "      <td>14.0</td>\n",
       "      <td>34.0</td>\n",
       "      <td>True</td>\n",
       "    </tr>\n",
       "    <tr>\n",
       "      <th>241</th>\n",
       "      <td>2019-06-27T08:02:00+02:00</td>\n",
       "      <td>9.634500e+09</td>\n",
       "      <td>2.250000e+11</td>\n",
       "      <td>1909760.0</td>\n",
       "      <td>9361408.0</td>\n",
       "      <td>14.5</td>\n",
       "      <td>30.5</td>\n",
       "      <td>True</td>\n",
       "    </tr>\n",
       "    <tr>\n",
       "      <th>242</th>\n",
       "      <td>2019-06-27T08:04:00+02:00</td>\n",
       "      <td>9.708500e+09</td>\n",
       "      <td>2.250000e+11</td>\n",
       "      <td>1655296.0</td>\n",
       "      <td>1817088.0</td>\n",
       "      <td>11.5</td>\n",
       "      <td>5.5</td>\n",
       "      <td>True</td>\n",
       "    </tr>\n",
       "    <tr>\n",
       "      <th>243</th>\n",
       "      <td>2019-06-27T08:06:00+02:00</td>\n",
       "      <td>9.926000e+09</td>\n",
       "      <td>2.250000e+11</td>\n",
       "      <td>1412608.0</td>\n",
       "      <td>1516032.0</td>\n",
       "      <td>37.0</td>\n",
       "      <td>15.0</td>\n",
       "      <td>True</td>\n",
       "    </tr>\n",
       "    <tr>\n",
       "      <th>244</th>\n",
       "      <td>2019-06-27T08:08:00+02:00</td>\n",
       "      <td>1.078250e+10</td>\n",
       "      <td>2.250000e+11</td>\n",
       "      <td>1795584.0</td>\n",
       "      <td>1858560.0</td>\n",
       "      <td>12.5</td>\n",
       "      <td>2.5</td>\n",
       "      <td>True</td>\n",
       "    </tr>\n",
       "  </tbody>\n",
       "</table>\n",
       "</div>"
      ],
      "text/plain": [
       "                          Time     CPU usage   Used memory  \\\n",
       "240  2019-06-27T08:00:00+02:00  1.387900e+10  2.250000e+11   \n",
       "241  2019-06-27T08:02:00+02:00  9.634500e+09  2.250000e+11   \n",
       "242  2019-06-27T08:04:00+02:00  9.708500e+09  2.250000e+11   \n",
       "243  2019-06-27T08:06:00+02:00  9.926000e+09  2.250000e+11   \n",
       "244  2019-06-27T08:08:00+02:00  1.078250e+10  2.250000e+11   \n",
       "\n",
       "     Number of bytes received  Number of bytes transmitted  RLATE  WLATE  \\\n",
       "240                 1658368.0                    2077696.0   14.0   34.0   \n",
       "241                 1909760.0                    9361408.0   14.5   30.5   \n",
       "242                 1655296.0                    1817088.0   11.5    5.5   \n",
       "243                 1412608.0                    1516032.0   37.0   15.0   \n",
       "244                 1795584.0                    1858560.0   12.5    2.5   \n",
       "\n",
       "    is_in_8and12  \n",
       "240         True  \n",
       "241         True  \n",
       "242         True  \n",
       "243         True  \n",
       "244         True  "
      ]
     },
     "execution_count": 8,
     "metadata": {},
     "output_type": "execute_result"
    }
   ],
   "source": [
    "df['is_in_8and12'] = df.Time.map(lambda x: x.split('T')[-1].split(':')[0])\n",
    "df['is_in_8and12'] = df['is_in_8and12'].map(lambda x: True if 8<=int(x)<=12 else 0 )\n",
    "df8to12 = df[df.is_in_8and12==True]\n",
    "df8to12.head()"
   ]
  },
  {
   "cell_type": "code",
   "execution_count": 9,
   "metadata": {},
   "outputs": [
    {
     "data": {
      "text/plain": [
       "(150, 8)"
      ]
     },
     "execution_count": 9,
     "metadata": {},
     "output_type": "execute_result"
    }
   ],
   "source": [
    "df8to12.shape"
   ]
  },
  {
   "cell_type": "code",
   "execution_count": 17,
   "metadata": {},
   "outputs": [],
   "source": [
    "# some params\n",
    "contamination = 0.02\n",
    "random_state = 78"
   ]
  },
  {
   "cell_type": "code",
   "execution_count": 18,
   "metadata": {},
   "outputs": [
    {
     "data": {
      "text/plain": [
       "(715, 7)"
      ]
     },
     "execution_count": 18,
     "metadata": {},
     "output_type": "execute_result"
    }
   ],
   "source": [
    "df = df.dropna()\n",
    "df.shape"
   ]
  },
  {
   "cell_type": "code",
   "execution_count": 19,
   "metadata": {},
   "outputs": [
    {
     "data": {
      "text/html": [
       "<div>\n",
       "<style scoped>\n",
       "    .dataframe tbody tr th:only-of-type {\n",
       "        vertical-align: middle;\n",
       "    }\n",
       "\n",
       "    .dataframe tbody tr th {\n",
       "        vertical-align: top;\n",
       "    }\n",
       "\n",
       "    .dataframe thead th {\n",
       "        text-align: right;\n",
       "    }\n",
       "</style>\n",
       "<table border=\"1\" class=\"dataframe\">\n",
       "  <thead>\n",
       "    <tr style=\"text-align: right;\">\n",
       "      <th></th>\n",
       "      <th>CPU usage</th>\n",
       "      <th>Used memory</th>\n",
       "      <th>Number of bytes received</th>\n",
       "      <th>Number of bytes transmitted</th>\n",
       "      <th>RLATE</th>\n",
       "      <th>WLATE</th>\n",
       "    </tr>\n",
       "  </thead>\n",
       "  <tbody>\n",
       "    <tr>\n",
       "      <th>0</th>\n",
       "      <td>0.579689</td>\n",
       "      <td>0.925926</td>\n",
       "      <td>0.083647</td>\n",
       "      <td>0.642853</td>\n",
       "      <td>0.032172</td>\n",
       "      <td>0.021180</td>\n",
       "    </tr>\n",
       "    <tr>\n",
       "      <th>1</th>\n",
       "      <td>0.530739</td>\n",
       "      <td>0.925926</td>\n",
       "      <td>0.068396</td>\n",
       "      <td>0.107084</td>\n",
       "      <td>0.254692</td>\n",
       "      <td>0.219365</td>\n",
       "    </tr>\n",
       "    <tr>\n",
       "      <th>2</th>\n",
       "      <td>0.481279</td>\n",
       "      <td>0.925926</td>\n",
       "      <td>0.074144</td>\n",
       "      <td>0.099255</td>\n",
       "      <td>0.241287</td>\n",
       "      <td>0.060514</td>\n",
       "    </tr>\n",
       "    <tr>\n",
       "      <th>3</th>\n",
       "      <td>0.514668</td>\n",
       "      <td>0.925926</td>\n",
       "      <td>0.086359</td>\n",
       "      <td>0.125773</td>\n",
       "      <td>0.281501</td>\n",
       "      <td>0.110439</td>\n",
       "    </tr>\n",
       "    <tr>\n",
       "      <th>4</th>\n",
       "      <td>0.425385</td>\n",
       "      <td>0.925926</td>\n",
       "      <td>0.070204</td>\n",
       "      <td>0.101991</td>\n",
       "      <td>0.048257</td>\n",
       "      <td>0.043873</td>\n",
       "    </tr>\n",
       "  </tbody>\n",
       "</table>\n",
       "</div>"
      ],
      "text/plain": [
       "   CPU usage  Used memory  Number of bytes received  \\\n",
       "0   0.579689     0.925926                  0.083647   \n",
       "1   0.530739     0.925926                  0.068396   \n",
       "2   0.481279     0.925926                  0.074144   \n",
       "3   0.514668     0.925926                  0.086359   \n",
       "4   0.425385     0.925926                  0.070204   \n",
       "\n",
       "   Number of bytes transmitted     RLATE     WLATE  \n",
       "0                     0.642853  0.032172  0.021180  \n",
       "1                     0.107084  0.254692  0.219365  \n",
       "2                     0.099255  0.241287  0.060514  \n",
       "3                     0.125773  0.281501  0.110439  \n",
       "4                     0.101991  0.048257  0.043873  "
      ]
     },
     "execution_count": 19,
     "metadata": {},
     "output_type": "execute_result"
    }
   ],
   "source": [
    "from sklearn.preprocessing import MinMaxScaler\n",
    "scaler = MinMaxScaler()\n",
    "df = df.drop(['Time'], axis=1)\n",
    "df_scaled = pd.DataFrame(scaler.fit_transform(df), columns=df.columns)\n",
    "df_scaled.head()"
   ]
  },
  {
   "cell_type": "code",
   "execution_count": 20,
   "metadata": {},
   "outputs": [],
   "source": [
    "n_clusters = 3\n",
    "from sklearn.cluster import KMeans\n",
    "kmeans = KMeans(n_clusters=n_clusters, random_state=0).fit(df_scaled)\n",
    "\n",
    "def thresholds_for_anomalie(kmeans, n_clusters=n_clusters, ):\n",
    "    \n",
    "    \"\"\"\n",
    "    return the rayon of each clusters\"\"\"\n",
    "    cluster_thresholds = {}\n",
    "    for i in range(n_clusters):\n",
    "        nb_of_obs_in_this_cluster = sum(kmeans.labels_) \n",
    "        cluster_thresholds[i] = nb_of_obs_in_this_cluster/len(kmeans.labels_)\n",
    "        \n",
    "    \n",
    "    "
   ]
  },
  {
   "cell_type": "code",
   "execution_count": null,
   "metadata": {},
   "outputs": [],
   "source": []
  },
  {
   "cell_type": "code",
   "execution_count": null,
   "metadata": {},
   "outputs": [],
   "source": []
  },
  {
   "cell_type": "code",
   "execution_count": null,
   "metadata": {},
   "outputs": [],
   "source": []
  },
  {
   "cell_type": "code",
   "execution_count": null,
   "metadata": {},
   "outputs": [],
   "source": []
  },
  {
   "cell_type": "code",
   "execution_count": null,
   "metadata": {},
   "outputs": [],
   "source": []
  },
  {
   "cell_type": "markdown",
   "metadata": {},
   "source": [
    "# Isolation forest"
   ]
  },
  {
   "cell_type": "code",
   "execution_count": 21,
   "metadata": {},
   "outputs": [],
   "source": [
    "import matplotlib.pyplot as plt\n",
    "from sklearn.ensemble import IsolationForest"
   ]
  },
  {
   "cell_type": "code",
   "execution_count": 22,
   "metadata": {},
   "outputs": [],
   "source": [
    "clf = IsolationForest(behaviour='new', max_samples=100,\n",
    "                      random_state=147, contamination=0.02)\n",
    "# contamination = 0.02 says that we fixed 2% of outliers \n",
    "clf.fit(df_scaled)\n",
    "y_pred_train = clf.predict(df_scaled)"
   ]
  },
  {
   "cell_type": "markdown",
   "metadata": {},
   "source": [
    "## Using PCA to visualizer the result"
   ]
  },
  {
   "cell_type": "code",
   "execution_count": 30,
   "metadata": {},
   "outputs": [],
   "source": [
    "from sklearn.decomposition import PCA\n",
    "pca = PCA(n_components=2)\n",
    "pca.fit(df_scaled)\n",
    "df_scaled_transform = pca.transform(df_scaled)"
   ]
  },
  {
   "cell_type": "code",
   "execution_count": 31,
   "metadata": {},
   "outputs": [
    {
     "data": {
      "image/png": "[encoded data removed]",
      "text/plain": [
       "<Figure size 720x360 with 1 Axes>"
      ]
     },
     "metadata": {
      "needs_background": "light"
     },
     "output_type": "display_data"
    }
   ],
   "source": [
    "plt.figure(figsize=(10,5))\n",
    "plt.scatter(df_scaled_transform[:,0], df_scaled_transform[:,1])\n",
    "#plt.plot([1,2,3], [3,4,5])\n",
    "outliers = df_scaled_transform[y_pred_train==-1]\n",
    "plt.scatter(outliers[:,0], outliers[:,1], color='red')\n",
    "plt.show()"
   ]
  },
  {
   "cell_type": "code",
   "execution_count": 32,
   "metadata": {},
   "outputs": [
    {
     "data": {
      "text/plain": [
       "array([0.49853224, 0.2278645 ])"
      ]
     },
     "execution_count": 32,
     "metadata": {},
     "output_type": "execute_result"
    }
   ],
   "source": [
    "pca.explained_variance_ratio_"
   ]
  },
  {
   "cell_type": "markdown",
   "metadata": {},
   "source": [
    "With 2 dimensional reduction, we get also 79.7% of variance, which is a good PCA. This method give a good visualization for our model.\n",
    " However, we see that our data separate clearly in 2 groups, and have a particular  geometric form. We must to find a method that is more convenient for this data."
   ]
  },
  {
   "cell_type": "markdown",
   "metadata": {},
   "source": [
    "# Method ElipticEnvelope-Method using Mahanalobis metric"
   ]
  },
  {
   "cell_type": "code",
   "execution_count": 27,
   "metadata": {},
   "outputs": [
    {
     "data": {
      "image/png": "[encoded data removed]",
      "text/plain": [
       "<Figure size 720x360 with 1 Axes>"
      ]
     },
     "metadata": {
      "needs_background": "light"
     },
     "output_type": "display_data"
    }
   ],
   "source": [
    "from sklearn.covariance import EllipticEnvelope\n",
    "cov = EllipticEnvelope(random_state=random_state, contamination=contamination).fit(df_scaled)\n",
    "y_pred_train_ellipticEnvelope = cov.predict(df_scaled)\n",
    "\n",
    "plt.figure(figsize=(10,5))\n",
    "plt.scatter(df_scaled_transform[:,0], df_scaled_transform[:,1])\n",
    "#plt.plot([1,2,3], [3,4,5])\n",
    "outliers = df_scaled_transform[y_pred_train_ellipticEnvelope==-1]\n",
    "plt.scatter(outliers[:,0], outliers[:,1], color='red')\n",
    "plt.show()"
   ]
  },
  {
   "cell_type": "code",
   "execution_count": null,
   "metadata": {},
   "outputs": [],
   "source": []
  },
  {
   "cell_type": "markdown",
   "metadata": {},
   "source": [
    "# Nearest Neighhors"
   ]
  },
  {
   "cell_type": "code",
   "execution_count": 28,
   "metadata": {},
   "outputs": [
    {
     "data": {
      "image/png": "[encoded data removed]",
      "text/plain": [
       "<Figure size 720x360 with 1 Axes>"
      ]
     },
     "metadata": {
      "needs_background": "light"
     },
     "output_type": "display_data"
    }
   ],
   "source": [
    "from sklearn.neighbors import LocalOutlierFactor\n",
    "neigh = LocalOutlierFactor(n_neighbors=3, contamination=contamination)\n",
    "y_pred_train_neigh = neigh.fit_predict(df_scaled)\n",
    "#y_pred_train_neigh = neigh.predict(df_scaled)\n",
    "\n",
    "plt.figure(figsize=(10,5))\n",
    "plt.scatter(df_scaled_transform[:,0], df_scaled_transform[:,1])\n",
    "outliers = df_scaled_transform[y_pred_train_neigh==-1]\n",
    "plt.scatter(outliers[:,0], outliers[:,1], color='red')\n",
    "plt.show()"
   ]
  },
  {
   "cell_type": "markdown",
   "metadata": {},
   "source": [
    "# To see how the method work on the data tranform( train and predict on the data set of 2 dimension)"
   ]
  },
  {
   "cell_type": "code",
   "execution_count": 29,
   "metadata": {},
   "outputs": [
    {
     "data": {
      "image/png": "[encoded data removed]",
      "text/plain": [
       "<Figure size 1440x576 with 3 Axes>"
      ]
     },
     "metadata": {
      "needs_background": "light"
     },
     "output_type": "display_data"
    }
   ],
   "source": [
    "neigh = LocalOutlierFactor(n_neighbors=3, contamination=0.02)\n",
    "y_pred_train_neigh = neigh.fit_predict(df_scaled_transform)\n",
    "\n",
    "\n",
    "plt.figure(figsize=(20,8))\n",
    "plt.subplot(131)\n",
    "plt.scatter(df_scaled_transform[:,0], df_scaled_transform[:,1])\n",
    "outliers = df_scaled_transform[y_pred_train_neigh==-1]\n",
    "plt.scatter(outliers[:,0], outliers[:,1], color='red')\n",
    "plt.title('Nereast Neighbors Method')\n",
    "\n",
    "cov = EllipticEnvelope(random_state=random_state, contamination=contamination).fit(df_scaled_transform)\n",
    "y_pred_train_ellipticEnvelope = cov.predict(df_scaled_transform)\n",
    "plt.subplot(132)\n",
    "plt.scatter(df_scaled_transform[:,0], df_scaled_transform[:,1])\n",
    "#plt.plot([1,2,3], [3,4,5])\n",
    "outliers = df_scaled_transform[y_pred_train_ellipticEnvelope==-1]\n",
    "plt.scatter(outliers[:,0], outliers[:,1], color='red')\n",
    "plt.title('Method Hanamalobis metric')\n",
    "\n",
    "clf = IsolationForest(behaviour='new', max_samples=100,\n",
    "                      random_state=147, contamination=0.02)\n",
    "clf.fit(df_scaled_transform)\n",
    "y_pred_train = clf.predict(df_scaled_transform)\n",
    "plt.subplot(133)\n",
    "plt.scatter(df_scaled_transform[:,0], df_scaled_transform[:,1])\n",
    "outliers = df_scaled_transform[y_pred_train==-1]\n",
    "plt.scatter(outliers[:,0], outliers[:,1], color='red')\n",
    "plt.title('IsolationForest')\n",
    "\n",
    "plt.show()"
   ]
  },
  {
   "cell_type": "code",
   "execution_count": null,
   "metadata": {},
   "outputs": [],
   "source": []
  }
 ],
 "metadata": {
  "kernelspec": {
   "display_name": "Python 3",
   "language": "python",
   "name": "python3"
  },
  "language_info": {
   "codemirror_mode": {
    "name": "ipython",
    "version": 3
   },
   "file_extension": ".py",
   "mimetype": "text/x-python",
   "name": "python",
   "nbconvert_exporter": "python",
   "pygments_lexer": "ipython3",
   "version": "3.6.8"
  }
 },
 "nbformat": 4,
 "nbformat_minor": 2
}
