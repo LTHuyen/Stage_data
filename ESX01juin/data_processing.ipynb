{
 "cells": [
  {
   "cell_type": "code",
   "execution_count": 3,
   "metadata": {},
   "outputs": [],
   "source": [
    "import numpy as np\n",
    "import pandas as pd\n",
    "path = \"../ESX01juin/ESX01juin.csv\"\n",
    "df = pd.read_csv(path, delimiter=\";\", decimal=',')"
   ]
  },
  {
   "cell_type": "code",
   "execution_count": 4,
   "metadata": {},
   "outputs": [
    {
     "data": {
      "text/html": [
       "<div>\n",
       "<style scoped>\n",
       "    .dataframe tbody tr th:only-of-type {\n",
       "        vertical-align: middle;\n",
       "    }\n",
       "\n",
       "    .dataframe tbody tr th {\n",
       "        vertical-align: top;\n",
       "    }\n",
       "\n",
       "    .dataframe thead th {\n",
       "        text-align: right;\n",
       "    }\n",
       "</style>\n",
       "<table border=\"1\" class=\"dataframe\">\n",
       "  <thead>\n",
       "    <tr style=\"text-align: right;\">\n",
       "      <th></th>\n",
       "      <th>Time</th>\n",
       "      <th>CPU usage</th>\n",
       "      <th>Used memory</th>\n",
       "      <th>Number of bytes received</th>\n",
       "      <th>Number of bytes transmitted</th>\n",
       "      <th>RLATE</th>\n",
       "      <th>WLATE</th>\n",
       "    </tr>\n",
       "  </thead>\n",
       "  <tbody>\n",
       "    <tr>\n",
       "      <th>0</th>\n",
       "      <td>2019-06-01T00:00:00+02:00</td>\n",
       "      <td>12557883333</td>\n",
       "      <td>2.275080e+11</td>\n",
       "      <td>13729792</td>\n",
       "      <td>13599351</td>\n",
       "      <td>13</td>\n",
       "      <td>14</td>\n",
       "    </tr>\n",
       "    <tr>\n",
       "      <th>1</th>\n",
       "      <td>2019-06-01T01:00:00+02:00</td>\n",
       "      <td>11103150000</td>\n",
       "      <td>2.273630e+11</td>\n",
       "      <td>10679620</td>\n",
       "      <td>34346939</td>\n",
       "      <td>10</td>\n",
       "      <td>15</td>\n",
       "    </tr>\n",
       "    <tr>\n",
       "      <th>2</th>\n",
       "      <td>2019-06-01T02:00:00+02:00</td>\n",
       "      <td>11826533333</td>\n",
       "      <td>2.272620e+11</td>\n",
       "      <td>9950395</td>\n",
       "      <td>36280285</td>\n",
       "      <td>13</td>\n",
       "      <td>19</td>\n",
       "    </tr>\n",
       "    <tr>\n",
       "      <th>3</th>\n",
       "      <td>2019-06-01T03:00:00+02:00</td>\n",
       "      <td>10604033333</td>\n",
       "      <td>2.272850e+11</td>\n",
       "      <td>6090057</td>\n",
       "      <td>28342289</td>\n",
       "      <td>17</td>\n",
       "      <td>22</td>\n",
       "    </tr>\n",
       "    <tr>\n",
       "      <th>4</th>\n",
       "      <td>2019-06-01T04:00:00+02:00</td>\n",
       "      <td>9820616666</td>\n",
       "      <td>2.273210e+11</td>\n",
       "      <td>2806713</td>\n",
       "      <td>15780899</td>\n",
       "      <td>12</td>\n",
       "      <td>32</td>\n",
       "    </tr>\n",
       "  </tbody>\n",
       "</table>\n",
       "</div>"
      ],
      "text/plain": [
       "                        Time    CPU usage   Used memory  \\\n",
       "0  2019-06-01T00:00:00+02:00  12557883333  2.275080e+11   \n",
       "1  2019-06-01T01:00:00+02:00  11103150000  2.273630e+11   \n",
       "2  2019-06-01T02:00:00+02:00  11826533333  2.272620e+11   \n",
       "3  2019-06-01T03:00:00+02:00  10604033333  2.272850e+11   \n",
       "4  2019-06-01T04:00:00+02:00   9820616666  2.273210e+11   \n",
       "\n",
       "   Number of bytes received  Number of bytes transmitted  RLATE  WLATE  \n",
       "0                  13729792                     13599351     13     14  \n",
       "1                  10679620                     34346939     10     15  \n",
       "2                   9950395                     36280285     13     19  \n",
       "3                   6090057                     28342289     17     22  \n",
       "4                   2806713                     15780899     12     32  "
      ]
     },
     "execution_count": 4,
     "metadata": {},
     "output_type": "execute_result"
    }
   ],
   "source": [
    "df.head()"
   ]
  },
  {
   "cell_type": "code",
   "execution_count": 5,
   "metadata": {},
   "outputs": [
    {
     "data": {
      "text/plain": [
       "Time                            object\n",
       "CPU usage                        int64\n",
       "Used memory                    float64\n",
       "Number of bytes received         int64\n",
       "Number of bytes transmitted      int64\n",
       "RLATE                            int64\n",
       "WLATE                            int64\n",
       "dtype: object"
      ]
     },
     "execution_count": 5,
     "metadata": {},
     "output_type": "execute_result"
    }
   ],
   "source": [
    "df.dtypes"
   ]
  },
  {
   "cell_type": "code",
   "execution_count": 6,
   "metadata": {},
   "outputs": [],
   "source": [
    "x=df['Time'][0]"
   ]
  },
  {
   "cell_type": "code",
   "execution_count": 7,
   "metadata": {},
   "outputs": [
    {
     "data": {
      "text/plain": [
       "str"
      ]
     },
     "execution_count": 7,
     "metadata": {},
     "output_type": "execute_result"
    }
   ],
   "source": [
    "type(x)"
   ]
  },
  {
   "cell_type": "code",
   "execution_count": 8,
   "metadata": {},
   "outputs": [
    {
     "data": {
      "text/plain": [
       "'2019-06-01T00:00:00+02:00'"
      ]
     },
     "execution_count": 8,
     "metadata": {},
     "output_type": "execute_result"
    }
   ],
   "source": [
    "x"
   ]
  },
  {
   "cell_type": "code",
   "execution_count": 9,
   "metadata": {},
   "outputs": [
    {
     "data": {
      "text/plain": [
       "['00', '00', '00+02', '00']"
      ]
     },
     "execution_count": 9,
     "metadata": {},
     "output_type": "execute_result"
    }
   ],
   "source": [
    "x.split('T')[-1].split(':')"
   ]
  },
  {
   "cell_type": "code",
   "execution_count": 10,
   "metadata": {},
   "outputs": [
    {
     "data": {
      "text/html": [
       "<div>\n",
       "<style scoped>\n",
       "    .dataframe tbody tr th:only-of-type {\n",
       "        vertical-align: middle;\n",
       "    }\n",
       "\n",
       "    .dataframe tbody tr th {\n",
       "        vertical-align: top;\n",
       "    }\n",
       "\n",
       "    .dataframe thead th {\n",
       "        text-align: right;\n",
       "    }\n",
       "</style>\n",
       "<table border=\"1\" class=\"dataframe\">\n",
       "  <thead>\n",
       "    <tr style=\"text-align: right;\">\n",
       "      <th></th>\n",
       "      <th>Time</th>\n",
       "      <th>CPU usage</th>\n",
       "      <th>Used memory</th>\n",
       "      <th>Number of bytes received</th>\n",
       "      <th>Number of bytes transmitted</th>\n",
       "      <th>RLATE</th>\n",
       "      <th>WLATE</th>\n",
       "      <th>is_in_8and12</th>\n",
       "    </tr>\n",
       "  </thead>\n",
       "  <tbody>\n",
       "    <tr>\n",
       "      <th>8</th>\n",
       "      <td>2019-06-01T08:00:00+02:00</td>\n",
       "      <td>10156316666</td>\n",
       "      <td>2.271440e+11</td>\n",
       "      <td>3994453</td>\n",
       "      <td>6051908</td>\n",
       "      <td>8</td>\n",
       "      <td>4</td>\n",
       "      <td>True</td>\n",
       "    </tr>\n",
       "    <tr>\n",
       "      <th>9</th>\n",
       "      <td>2019-06-01T09:00:00+02:00</td>\n",
       "      <td>10278466666</td>\n",
       "      <td>2.272940e+11</td>\n",
       "      <td>7680590</td>\n",
       "      <td>7730262</td>\n",
       "      <td>8</td>\n",
       "      <td>3</td>\n",
       "      <td>True</td>\n",
       "    </tr>\n",
       "    <tr>\n",
       "      <th>10</th>\n",
       "      <td>2019-06-01T10:00:00+02:00</td>\n",
       "      <td>11115916666</td>\n",
       "      <td>2.273620e+11</td>\n",
       "      <td>8104786</td>\n",
       "      <td>8075385</td>\n",
       "      <td>7</td>\n",
       "      <td>11</td>\n",
       "      <td>True</td>\n",
       "    </tr>\n",
       "    <tr>\n",
       "      <th>11</th>\n",
       "      <td>2019-06-01T11:00:00+02:00</td>\n",
       "      <td>14430400000</td>\n",
       "      <td>2.274150e+11</td>\n",
       "      <td>11766625</td>\n",
       "      <td>20510720</td>\n",
       "      <td>10</td>\n",
       "      <td>4</td>\n",
       "      <td>True</td>\n",
       "    </tr>\n",
       "    <tr>\n",
       "      <th>12</th>\n",
       "      <td>2019-06-01T12:00:00+02:00</td>\n",
       "      <td>14006366666</td>\n",
       "      <td>2.275400e+11</td>\n",
       "      <td>12896409</td>\n",
       "      <td>33514444</td>\n",
       "      <td>10</td>\n",
       "      <td>6</td>\n",
       "      <td>True</td>\n",
       "    </tr>\n",
       "  </tbody>\n",
       "</table>\n",
       "</div>"
      ],
      "text/plain": [
       "                         Time    CPU usage   Used memory  \\\n",
       "8   2019-06-01T08:00:00+02:00  10156316666  2.271440e+11   \n",
       "9   2019-06-01T09:00:00+02:00  10278466666  2.272940e+11   \n",
       "10  2019-06-01T10:00:00+02:00  11115916666  2.273620e+11   \n",
       "11  2019-06-01T11:00:00+02:00  14430400000  2.274150e+11   \n",
       "12  2019-06-01T12:00:00+02:00  14006366666  2.275400e+11   \n",
       "\n",
       "    Number of bytes received  Number of bytes transmitted  RLATE  WLATE  \\\n",
       "8                    3994453                      6051908      8      4   \n",
       "9                    7680590                      7730262      8      3   \n",
       "10                   8104786                      8075385      7     11   \n",
       "11                  11766625                     20510720     10      4   \n",
       "12                  12896409                     33514444     10      6   \n",
       "\n",
       "   is_in_8and12  \n",
       "8          True  \n",
       "9          True  \n",
       "10         True  \n",
       "11         True  \n",
       "12         True  "
      ]
     },
     "execution_count": 10,
     "metadata": {},
     "output_type": "execute_result"
    }
   ],
   "source": [
    "df['is_in_8and12'] = df.Time.map(lambda x: x.split('T')[-1].split(':')[0])\n",
    "df['is_in_8and12'] = df['is_in_8and12'].map(lambda x: True if 8<=int(x)<=12 else 0 )\n",
    "df8to12 = df[df.is_in_8and12==True]\n",
    "df8to12.head()"
   ]
  },
  {
   "cell_type": "code",
   "execution_count": 11,
   "metadata": {},
   "outputs": [
    {
     "data": {
      "text/plain": [
       "(150, 8)"
      ]
     },
     "execution_count": 11,
     "metadata": {},
     "output_type": "execute_result"
    }
   ],
   "source": [
    "df8to12.shape"
   ]
  },
  {
   "cell_type": "code",
   "execution_count": 12,
   "metadata": {},
   "outputs": [],
   "source": [
    "# some params\n",
    "contamination = 0.02\n",
    "random_state = 78"
   ]
  },
  {
   "cell_type": "code",
   "execution_count": 13,
   "metadata": {},
   "outputs": [
    {
     "name": "stderr",
     "output_type": "stream",
     "text": [
      "/anaconda3/lib/python3.6/site-packages/sklearn/preprocessing/data.py:323: DataConversionWarning: Data with input dtype int64, float64, object were all converted to float64 by MinMaxScaler.\n",
      "  return self.partial_fit(X, y)\n"
     ]
    },
    {
     "data": {
      "text/html": [
       "<div>\n",
       "<style scoped>\n",
       "    .dataframe tbody tr th:only-of-type {\n",
       "        vertical-align: middle;\n",
       "    }\n",
       "\n",
       "    .dataframe tbody tr th {\n",
       "        vertical-align: top;\n",
       "    }\n",
       "\n",
       "    .dataframe thead th {\n",
       "        text-align: right;\n",
       "    }\n",
       "</style>\n",
       "<table border=\"1\" class=\"dataframe\">\n",
       "  <thead>\n",
       "    <tr style=\"text-align: right;\">\n",
       "      <th></th>\n",
       "      <th>CPU usage</th>\n",
       "      <th>Used memory</th>\n",
       "      <th>Number of bytes received</th>\n",
       "      <th>Number of bytes transmitted</th>\n",
       "      <th>RLATE</th>\n",
       "      <th>WLATE</th>\n",
       "      <th>is_in_8and12</th>\n",
       "    </tr>\n",
       "  </thead>\n",
       "  <tbody>\n",
       "    <tr>\n",
       "      <th>0</th>\n",
       "      <td>0.440268</td>\n",
       "      <td>0.148274</td>\n",
       "      <td>0.265388</td>\n",
       "      <td>0.259279</td>\n",
       "      <td>0.152778</td>\n",
       "      <td>0.035230</td>\n",
       "      <td>0.0</td>\n",
       "    </tr>\n",
       "    <tr>\n",
       "      <th>1</th>\n",
       "      <td>0.305956</td>\n",
       "      <td>0.142803</td>\n",
       "      <td>0.203678</td>\n",
       "      <td>0.671155</td>\n",
       "      <td>0.111111</td>\n",
       "      <td>0.037940</td>\n",
       "      <td>0.0</td>\n",
       "    </tr>\n",
       "    <tr>\n",
       "      <th>2</th>\n",
       "      <td>0.372744</td>\n",
       "      <td>0.138993</td>\n",
       "      <td>0.188924</td>\n",
       "      <td>0.709535</td>\n",
       "      <td>0.152778</td>\n",
       "      <td>0.048780</td>\n",
       "      <td>0.0</td>\n",
       "    </tr>\n",
       "    <tr>\n",
       "      <th>3</th>\n",
       "      <td>0.259874</td>\n",
       "      <td>0.139860</td>\n",
       "      <td>0.110823</td>\n",
       "      <td>0.551952</td>\n",
       "      <td>0.208333</td>\n",
       "      <td>0.056911</td>\n",
       "      <td>0.0</td>\n",
       "    </tr>\n",
       "    <tr>\n",
       "      <th>4</th>\n",
       "      <td>0.187543</td>\n",
       "      <td>0.141219</td>\n",
       "      <td>0.044395</td>\n",
       "      <td>0.302587</td>\n",
       "      <td>0.138889</td>\n",
       "      <td>0.084011</td>\n",
       "      <td>0.0</td>\n",
       "    </tr>\n",
       "  </tbody>\n",
       "</table>\n",
       "</div>"
      ],
      "text/plain": [
       "   CPU usage  Used memory  Number of bytes received  \\\n",
       "0   0.440268     0.148274                  0.265388   \n",
       "1   0.305956     0.142803                  0.203678   \n",
       "2   0.372744     0.138993                  0.188924   \n",
       "3   0.259874     0.139860                  0.110823   \n",
       "4   0.187543     0.141219                  0.044395   \n",
       "\n",
       "   Number of bytes transmitted     RLATE     WLATE  is_in_8and12  \n",
       "0                     0.259279  0.152778  0.035230           0.0  \n",
       "1                     0.671155  0.111111  0.037940           0.0  \n",
       "2                     0.709535  0.152778  0.048780           0.0  \n",
       "3                     0.551952  0.208333  0.056911           0.0  \n",
       "4                     0.302587  0.138889  0.084011           0.0  "
      ]
     },
     "execution_count": 13,
     "metadata": {},
     "output_type": "execute_result"
    }
   ],
   "source": [
    "from sklearn.preprocessing import MinMaxScaler\n",
    "scaler = MinMaxScaler()\n",
    "df = df.drop(['Time'], axis=1)\n",
    "df_scaled = pd.DataFrame(scaler.fit_transform(df), columns=df.columns)\n",
    "df_scaled.head()"
   ]
  },
  {
   "cell_type": "code",
   "execution_count": 14,
   "metadata": {},
   "outputs": [],
   "source": [
    "n_clusters = 3\n",
    "from sklearn.cluster import KMeans\n",
    "kmeans = KMeans(n_clusters=n_clusters, random_state=0).fit(df_scaled)\n",
    "\n",
    "def thresholds_for_anomalie(kmeans, n_clusters=n_clusters, ):\n",
    "    \n",
    "    \"\"\"\n",
    "    return the rayon of each clusters\"\"\"\n",
    "    cluster_thresholds = {}\n",
    "    for i in range(n_clusters):\n",
    "        nb_of_obs_in_this_cluster = sum(kmeans.labels_) \n",
    "        cluster_thresholds[i] = nb_of_obs_in_this_cluster/len(kmeans.labels_)\n",
    "        \n",
    "    \n",
    "    "
   ]
  },
  {
   "cell_type": "code",
   "execution_count": null,
   "metadata": {},
   "outputs": [],
   "source": []
  },
  {
   "cell_type": "code",
   "execution_count": null,
   "metadata": {},
   "outputs": [],
   "source": []
  },
  {
   "cell_type": "code",
   "execution_count": null,
   "metadata": {},
   "outputs": [],
   "source": []
  },
  {
   "cell_type": "code",
   "execution_count": null,
   "metadata": {},
   "outputs": [],
   "source": []
  },
  {
   "cell_type": "code",
   "execution_count": null,
   "metadata": {},
   "outputs": [],
   "source": []
  },
  {
   "cell_type": "markdown",
   "metadata": {},
   "source": [
    "# Isolation forest"
   ]
  },
  {
   "cell_type": "code",
   "execution_count": 15,
   "metadata": {},
   "outputs": [],
   "source": [
    "import matplotlib.pyplot as plt\n",
    "from sklearn.ensemble import IsolationForest"
   ]
  },
  {
   "cell_type": "code",
   "execution_count": 16,
   "metadata": {},
   "outputs": [],
   "source": [
    "clf = IsolationForest(behaviour='new', max_samples=100,\n",
    "                      random_state=147, contamination=0.02)\n",
    "# contamination = 0.02 says that we fixed 2% of outliers \n",
    "clf.fit(df_scaled)\n",
    "y_pred_train = clf.predict(df_scaled)"
   ]
  },
  {
   "cell_type": "markdown",
   "metadata": {},
   "source": [
    "## Using PCA to visualizer the result"
   ]
  },
  {
   "cell_type": "code",
   "execution_count": 17,
   "metadata": {},
   "outputs": [],
   "source": [
    "from sklearn.decomposition import PCA\n",
    "pca = PCA(n_components=2)\n",
    "pca.fit(df_scaled)\n",
    "df_scaled_transform = pca.transform(df_scaled)"
   ]
  },
  {
   "cell_type": "code",
   "execution_count": 18,
   "metadata": {},
   "outputs": [
    {
     "data": {
      "image/png": "[encoded data removed]",
      "text/plain": [
       "<Figure size 720x360 with 1 Axes>"
      ]
     },
     "metadata": {
      "needs_background": "light"
     },
     "output_type": "display_data"
    }
   ],
   "source": [
    "plt.figure(figsize=(10,5))\n",
    "plt.scatter(df_scaled_transform[:,0], df_scaled_transform[:,1])\n",
    "#plt.plot([1,2,3], [3,4,5])\n",
    "outliers = df_scaled_transform[y_pred_train==-1]\n",
    "plt.scatter(outliers[:,0], outliers[:,1], color='red')\n",
    "plt.show()"
   ]
  },
  {
   "cell_type": "code",
   "execution_count": 19,
   "metadata": {},
   "outputs": [
    {
     "data": {
      "text/plain": [
       "array([0.49767754, 0.30052241])"
      ]
     },
     "execution_count": 19,
     "metadata": {},
     "output_type": "execute_result"
    }
   ],
   "source": [
    "pca.explained_variance_ratio_"
   ]
  },
  {
   "cell_type": "markdown",
   "metadata": {},
   "source": [
    "With 2 dimensional reduction, we get also 79.7% of variance, which is a good PCA. This method give a good visualization for our model.\n",
    " However, we see that our data separate clearly in 2 groups, and have a particular  geometric form. We must to find a method that is more convenient for this data."
   ]
  },
  {
   "cell_type": "markdown",
   "metadata": {},
   "source": [
    "# Method ElipticEnvelope-Method using Mahanalobis metric"
   ]
  },
  {
   "cell_type": "code",
   "execution_count": 20,
   "metadata": {},
   "outputs": [
    {
     "data": {
      "image/png": "[encoded data removed]",
      "text/plain": [
       "<Figure size 720x360 with 1 Axes>"
      ]
     },
     "metadata": {
      "needs_background": "light"
     },
     "output_type": "display_data"
    }
   ],
   "source": [
    "from sklearn.covariance import EllipticEnvelope\n",
    "cov = EllipticEnvelope(random_state=random_state, contamination=contamination).fit(df_scaled)\n",
    "y_pred_train_ellipticEnvelope = cov.predict(df_scaled)\n",
    "\n",
    "plt.figure(figsize=(10,5))\n",
    "plt.scatter(df_scaled_transform[:,0], df_scaled_transform[:,1])\n",
    "#plt.plot([1,2,3], [3,4,5])\n",
    "outliers = df_scaled_transform[y_pred_train_ellipticEnvelope==-1]\n",
    "plt.scatter(outliers[:,0], outliers[:,1], color='red')\n",
    "plt.show()"
   ]
  },
  {
   "cell_type": "code",
   "execution_count": null,
   "metadata": {},
   "outputs": [],
   "source": []
  },
  {
   "cell_type": "markdown",
   "metadata": {},
   "source": [
    "# Nearest Neighhors"
   ]
  },
  {
   "cell_type": "code",
   "execution_count": 21,
   "metadata": {},
   "outputs": [
    {
     "data": {
      "image/png": "[encoded data removed]",
      "text/plain": [
       "<Figure size 720x360 with 1 Axes>"
      ]
     },
     "metadata": {
      "needs_background": "light"
     },
     "output_type": "display_data"
    }
   ],
   "source": [
    "from sklearn.neighbors import LocalOutlierFactor\n",
    "neigh = LocalOutlierFactor(n_neighbors=3, contamination=contamination)\n",
    "y_pred_train_neigh = neigh.fit_predict(df_scaled)\n",
    "#y_pred_train_neigh = neigh.predict(df_scaled)\n",
    "\n",
    "plt.figure(figsize=(10,5))\n",
    "plt.scatter(df_scaled_transform[:,0], df_scaled_transform[:,1])\n",
    "outliers = df_scaled_transform[y_pred_train_neigh==-1]\n",
    "plt.scatter(outliers[:,0], outliers[:,1], color='red')\n",
    "plt.show()"
   ]
  },
  {
   "cell_type": "markdown",
   "metadata": {},
   "source": [
    "# To see how the method work on the data tranform( train and predict on the data set of 2 dimension)"
   ]
  },
  {
   "cell_type": "code",
   "execution_count": 22,
   "metadata": {},
   "outputs": [
    {
     "data": {
      "image/png": "[encoded data removed]",
      "text/plain": [
       "<Figure size 1440x576 with 3 Axes>"
      ]
     },
     "metadata": {
      "needs_background": "light"
     },
     "output_type": "display_data"
    }
   ],
   "source": [
    "neigh = LocalOutlierFactor(n_neighbors=3, contamination=0.02)\n",
    "y_pred_train_neigh = neigh.fit_predict(df_scaled_transform)\n",
    "\n",
    "\n",
    "plt.figure(figsize=(20,8))\n",
    "plt.subplot(131)\n",
    "plt.scatter(df_scaled_transform[:,0], df_scaled_transform[:,1])\n",
    "outliers = df_scaled_transform[y_pred_train_neigh==-1]\n",
    "plt.scatter(outliers[:,0], outliers[:,1], color='red')\n",
    "plt.title('Nereast Neighbors Method')\n",
    "\n",
    "cov = EllipticEnvelope(random_state=random_state, contamination=contamination).fit(df_scaled_transform)\n",
    "y_pred_train_ellipticEnvelope = cov.predict(df_scaled_transform)\n",
    "plt.subplot(132)\n",
    "plt.scatter(df_scaled_transform[:,0], df_scaled_transform[:,1])\n",
    "#plt.plot([1,2,3], [3,4,5])\n",
    "outliers = df_scaled_transform[y_pred_train_ellipticEnvelope==-1]\n",
    "plt.scatter(outliers[:,0], outliers[:,1], color='red')\n",
    "plt.title('Method Hanamalobis metric')\n",
    "\n",
    "clf = IsolationForest(behaviour='new', max_samples=100,\n",
    "                      random_state=147, contamination=0.02)\n",
    "clf.fit(df_scaled_transform)\n",
    "y_pred_train = clf.predict(df_scaled_transform)\n",
    "plt.subplot(133)\n",
    "plt.scatter(df_scaled_transform[:,0], df_scaled_transform[:,1])\n",
    "outliers = df_scaled_transform[y_pred_train==-1]\n",
    "plt.scatter(outliers[:,0], outliers[:,1], color='red')\n",
    "plt.title('IsolationForest')\n",
    "\n",
    "plt.show()"
   ]
  },
  {
   "cell_type": "code",
   "execution_count": null,
   "metadata": {},
   "outputs": [],
   "source": []
  }
 ],
 "metadata": {
  "kernelspec": {
   "display_name": "Python 3",
   "language": "python",
   "name": "python3"
  },
  "language_info": {
   "codemirror_mode": {
    "name": "ipython",
    "version": 3
   },
   "file_extension": ".py",
   "mimetype": "text/x-python",
   "name": "python",
   "nbconvert_exporter": "python",
   "pygments_lexer": "ipython3",
   "version": "3.6.8"
  }
 },
 "nbformat": 4,
 "nbformat_minor": 2
}
