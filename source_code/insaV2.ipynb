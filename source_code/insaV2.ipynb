{
 "cells": [
  {
   "cell_type": "code",
   "execution_count": null,
   "metadata": {},
   "outputs": [],
   "source": [
    "import os\n",
    "import pandas as pd\n",
    "import numpy as np\n",
    "## first file in current dir (with full path)\n",
    "file = os.path.join(os.getcwd(), os.listdir(os.getcwd())[0])\n",
    "file\n",
    "os.path.dirname(file) ## directory of file\n",
    "os.path.dirname(os.path.dirname(file)) ## directory of directory of file\n",
    "\n",
    "from os import listdir\n",
    "from os.path import isfile, join\n",
    "mypath = '/Users/NhatMinh/Desktop/ML/Stage_data/insa01'\n",
    "onlyfiles = [f for f in listdir(mypath) if isfile(join(mypath, f))]\n",
    "\n",
    "index = 0\n",
    "list_all_df = []\n",
    "for  file in onlyfiles:\n",
    "    if 'csv' in file:\n",
    "        if index ==0:\n",
    "            path = os.path.join(mypath, file)\n",
    "            df_all = pd.read_csv(path,  sep='\\n', header=0, delimiter=\";\",decimal=',')\n",
    "            list_all_df.append(df_all)\n",
    "        else:\n",
    "            path = os.path.join(mypath, file)\n",
    "            this_df = pd.read_csv(path,  sep='\\n', header=0, delimiter=\";\",decimal=',')\n",
    "            df_all = df_all.append(this_df)\n",
    "            list_all_df.append(this_df)\n",
    "        index +=1\n",
    "        \n",
    "print(df_all.shape)"
   ]
  }
 ],
 "metadata": {
  "kernelspec": {
   "display_name": "Python 3",
   "language": "python",
   "name": "python3"
  },
  "language_info": {
   "codemirror_mode": {
    "name": "ipython",
    "version": 3
   },
   "file_extension": ".py",
   "mimetype": "text/x-python",
   "name": "python",
   "nbconvert_exporter": "python",
   "pygments_lexer": "ipython3",
   "version": "3.6.8"
  }
 },
 "nbformat": 4,
 "nbformat_minor": 2
}
