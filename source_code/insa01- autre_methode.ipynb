{
 "cells": [
  {
   "cell_type": "code",
   "execution_count": 29,
   "metadata": {},
   "outputs": [
    {
     "name": "stdout",
     "output_type": "stream",
     "text": [
      "(12096, 6)\n"
     ]
    }
   ],
   "source": [
    "import os\n",
    "import pandas as pd\n",
    "import numpy as np\n",
    "## first file in current dir (with full path)\n",
    "file = os.path.join(os.getcwd(), os.listdir(os.getcwd())[0])\n",
    "file\n",
    "os.path.dirname(file) ## directory of file\n",
    "os.path.dirname(os.path.dirname(file)) ## directory of directory of file\n",
    "\n",
    "from os import listdir\n",
    "from os.path import isfile, join\n",
    "mypath = '/Users/lehuyen/Dropbox/Stage_data/insa01'\n",
    "onlyfiles = [f for f in listdir(mypath) if isfile(join(mypath, f))]\n",
    "\n",
    "index = 0\n",
    "list_all_df = []\n",
    "for  file in onlyfiles:\n",
    "    if 'csv' in file:\n",
    "        if index ==0:\n",
    "            path = os.path.join(mypath, file)\n",
    "            df_all = pd.read_csv(path,  sep='\\n', header=0, delimiter=\";\",decimal=',')\n",
    "            list_all_df.append(df_all)\n",
    "        else:\n",
    "            path = os.path.join(mypath, file)\n",
    "            this_df = pd.read_csv(path,  sep='\\n', header=0, delimiter=\";\",decimal=',')\n",
    "            df_all = df_all.append(this_df)\n",
    "            list_all_df.append(this_df)\n",
    "        index +=1\n",
    "        \n",
    "print(df_all.shape)\n"
   ]
  },
  {
   "cell_type": "code",
   "execution_count": 30,
   "metadata": {},
   "outputs": [],
   "source": [
    "df_all.to_csv('/Users/lehuyen/Dropbox/Stage_data/insa_all.csv',sep =',', index = None)"
   ]
  },
  {
   "cell_type": "code",
   "execution_count": 31,
   "metadata": {},
   "outputs": [],
   "source": [
    "#insa = pd.read_csv('/Users/lehuyen/Dropbox/Stage_data/insa_all.csv', header=0, delimiter=\",\",decimal=',')\n",
    "insa = pd.read_csv('/Users/lehuyen/Dropbox/Stage_data/insa_all.csv')\n",
    "insa.columns =['Time','CPU','MEM','REC', 'TRAN','Status']"
   ]
  },
  {
   "cell_type": "code",
   "execution_count": 32,
   "metadata": {},
   "outputs": [
    {
     "data": {
      "text/html": [
       "<div>\n",
       "<style scoped>\n",
       "    .dataframe tbody tr th:only-of-type {\n",
       "        vertical-align: middle;\n",
       "    }\n",
       "\n",
       "    .dataframe tbody tr th {\n",
       "        vertical-align: top;\n",
       "    }\n",
       "\n",
       "    .dataframe thead th {\n",
       "        text-align: right;\n",
       "    }\n",
       "</style>\n",
       "<table border=\"1\" class=\"dataframe\">\n",
       "  <thead>\n",
       "    <tr style=\"text-align: right;\">\n",
       "      <th></th>\n",
       "      <th>Time</th>\n",
       "      <th>CPU</th>\n",
       "      <th>MEM</th>\n",
       "      <th>REC</th>\n",
       "      <th>TRAN</th>\n",
       "      <th>Status</th>\n",
       "    </tr>\n",
       "  </thead>\n",
       "  <tbody>\n",
       "    <tr>\n",
       "      <th>0</th>\n",
       "      <td>2019-09-07T00:00:00+02:00</td>\n",
       "      <td>3.336000e+09</td>\n",
       "      <td>7.560757e+10</td>\n",
       "      <td>992256.0</td>\n",
       "      <td>249856.0</td>\n",
       "      <td>1.0</td>\n",
       "    </tr>\n",
       "    <tr>\n",
       "      <th>1</th>\n",
       "      <td>2019-09-07T00:02:00+02:00</td>\n",
       "      <td>2.204500e+09</td>\n",
       "      <td>7.563326e+10</td>\n",
       "      <td>960512.0</td>\n",
       "      <td>248832.0</td>\n",
       "      <td>1.0</td>\n",
       "    </tr>\n",
       "    <tr>\n",
       "      <th>2</th>\n",
       "      <td>2019-09-07T00:04:00+02:00</td>\n",
       "      <td>2.156000e+09</td>\n",
       "      <td>7.560495e+10</td>\n",
       "      <td>1046528.0</td>\n",
       "      <td>254464.0</td>\n",
       "      <td>1.0</td>\n",
       "    </tr>\n",
       "    <tr>\n",
       "      <th>3</th>\n",
       "      <td>2019-09-07T00:06:00+02:00</td>\n",
       "      <td>2.358000e+09</td>\n",
       "      <td>7.558450e+10</td>\n",
       "      <td>761344.0</td>\n",
       "      <td>488448.0</td>\n",
       "      <td>1.0</td>\n",
       "    </tr>\n",
       "    <tr>\n",
       "      <th>4</th>\n",
       "      <td>2019-09-07T00:08:00+02:00</td>\n",
       "      <td>2.702000e+09</td>\n",
       "      <td>7.565633e+10</td>\n",
       "      <td>4247552.0</td>\n",
       "      <td>512512.0</td>\n",
       "      <td>1.0</td>\n",
       "    </tr>\n",
       "  </tbody>\n",
       "</table>\n",
       "</div>"
      ],
      "text/plain": [
       "                        Time           CPU           MEM        REC      TRAN  \\\n",
       "0  2019-09-07T00:00:00+02:00  3.336000e+09  7.560757e+10   992256.0  249856.0   \n",
       "1  2019-09-07T00:02:00+02:00  2.204500e+09  7.563326e+10   960512.0  248832.0   \n",
       "2  2019-09-07T00:04:00+02:00  2.156000e+09  7.560495e+10  1046528.0  254464.0   \n",
       "3  2019-09-07T00:06:00+02:00  2.358000e+09  7.558450e+10   761344.0  488448.0   \n",
       "4  2019-09-07T00:08:00+02:00  2.702000e+09  7.565633e+10  4247552.0  512512.0   \n",
       "\n",
       "   Status  \n",
       "0     1.0  \n",
       "1     1.0  \n",
       "2     1.0  \n",
       "3     1.0  \n",
       "4     1.0  "
      ]
     },
     "execution_count": 32,
     "metadata": {},
     "output_type": "execute_result"
    }
   ],
   "source": [
    "insa.head()"
   ]
  },
  {
   "cell_type": "code",
   "execution_count": 33,
   "metadata": {},
   "outputs": [
    {
     "name": "stdout",
     "output_type": "stream",
     "text": [
      "27juin_25juillet(jeudi).ipynb \u001b[34mimages\u001b[m\u001b[m\r\n",
      "ESX_nouveau.ipynb             insa01- autre_methode.ipynb\r\n",
      "data_from_jan_july.ipynb      insa01.ipynb\r\n",
      "data_month.ipynb              insa_all.csv\r\n",
      "extract_all_datas.ipynb\r\n"
     ]
    }
   ],
   "source": [
    "!ls "
   ]
  },
  {
   "cell_type": "code",
   "execution_count": 34,
   "metadata": {},
   "outputs": [],
   "source": [
    "for df in list_all_df:\n",
    "    df.columns =['Time','CPU','MEM','REC', 'TRAN','Status']"
   ]
  },
  {
   "cell_type": "code",
   "execution_count": 35,
   "metadata": {},
   "outputs": [],
   "source": [
    "df_all.columns =['Time','CPU','MEM','REC', 'TRAN','Status']"
   ]
  },
  {
   "cell_type": "code",
   "execution_count": 36,
   "metadata": {},
   "outputs": [
    {
     "data": {
      "text/plain": [
       "Index(['Time', 'CPU', 'MEM', 'REC', 'TRAN', 'Status'], dtype='object')"
      ]
     },
     "execution_count": 36,
     "metadata": {},
     "output_type": "execute_result"
    }
   ],
   "source": [
    "list_all_df[0].columns"
   ]
  },
  {
   "cell_type": "code",
   "execution_count": 37,
   "metadata": {},
   "outputs": [
    {
     "data": {
      "text/html": [
       "<div>\n",
       "<style scoped>\n",
       "    .dataframe tbody tr th:only-of-type {\n",
       "        vertical-align: middle;\n",
       "    }\n",
       "\n",
       "    .dataframe tbody tr th {\n",
       "        vertical-align: top;\n",
       "    }\n",
       "\n",
       "    .dataframe thead th {\n",
       "        text-align: right;\n",
       "    }\n",
       "</style>\n",
       "<table border=\"1\" class=\"dataframe\">\n",
       "  <thead>\n",
       "    <tr style=\"text-align: right;\">\n",
       "      <th></th>\n",
       "      <th>Time</th>\n",
       "      <th>CPU</th>\n",
       "      <th>MEM</th>\n",
       "      <th>REC</th>\n",
       "      <th>TRAN</th>\n",
       "      <th>Status</th>\n",
       "    </tr>\n",
       "  </thead>\n",
       "  <tbody>\n",
       "    <tr>\n",
       "      <th>0</th>\n",
       "      <td>2019-09-07T00:00:00+02:00</td>\n",
       "      <td>3.336000e+09</td>\n",
       "      <td>7.560757e+10</td>\n",
       "      <td>992256.0</td>\n",
       "      <td>249856.0</td>\n",
       "      <td>1.0</td>\n",
       "    </tr>\n",
       "    <tr>\n",
       "      <th>1</th>\n",
       "      <td>2019-09-07T00:02:00+02:00</td>\n",
       "      <td>2.204500e+09</td>\n",
       "      <td>7.563326e+10</td>\n",
       "      <td>960512.0</td>\n",
       "      <td>248832.0</td>\n",
       "      <td>1.0</td>\n",
       "    </tr>\n",
       "    <tr>\n",
       "      <th>2</th>\n",
       "      <td>2019-09-07T00:04:00+02:00</td>\n",
       "      <td>2.156000e+09</td>\n",
       "      <td>7.560495e+10</td>\n",
       "      <td>1046528.0</td>\n",
       "      <td>254464.0</td>\n",
       "      <td>1.0</td>\n",
       "    </tr>\n",
       "    <tr>\n",
       "      <th>3</th>\n",
       "      <td>2019-09-07T00:06:00+02:00</td>\n",
       "      <td>2.358000e+09</td>\n",
       "      <td>7.558450e+10</td>\n",
       "      <td>761344.0</td>\n",
       "      <td>488448.0</td>\n",
       "      <td>1.0</td>\n",
       "    </tr>\n",
       "    <tr>\n",
       "      <th>4</th>\n",
       "      <td>2019-09-07T00:08:00+02:00</td>\n",
       "      <td>2.702000e+09</td>\n",
       "      <td>7.565633e+10</td>\n",
       "      <td>4247552.0</td>\n",
       "      <td>512512.0</td>\n",
       "      <td>1.0</td>\n",
       "    </tr>\n",
       "  </tbody>\n",
       "</table>\n",
       "</div>"
      ],
      "text/plain": [
       "                        Time           CPU           MEM        REC      TRAN  \\\n",
       "0  2019-09-07T00:00:00+02:00  3.336000e+09  7.560757e+10   992256.0  249856.0   \n",
       "1  2019-09-07T00:02:00+02:00  2.204500e+09  7.563326e+10   960512.0  248832.0   \n",
       "2  2019-09-07T00:04:00+02:00  2.156000e+09  7.560495e+10  1046528.0  254464.0   \n",
       "3  2019-09-07T00:06:00+02:00  2.358000e+09  7.558450e+10   761344.0  488448.0   \n",
       "4  2019-09-07T00:08:00+02:00  2.702000e+09  7.565633e+10  4247552.0  512512.0   \n",
       "\n",
       "   Status  \n",
       "0     1.0  \n",
       "1     1.0  \n",
       "2     1.0  \n",
       "3     1.0  \n",
       "4     1.0  "
      ]
     },
     "execution_count": 37,
     "metadata": {},
     "output_type": "execute_result"
    }
   ],
   "source": [
    "df_all.head()"
   ]
  },
  {
   "cell_type": "code",
   "execution_count": 38,
   "metadata": {},
   "outputs": [
    {
     "data": {
      "text/html": [
       "<div>\n",
       "<style scoped>\n",
       "    .dataframe tbody tr th:only-of-type {\n",
       "        vertical-align: middle;\n",
       "    }\n",
       "\n",
       "    .dataframe tbody tr th {\n",
       "        vertical-align: top;\n",
       "    }\n",
       "\n",
       "    .dataframe thead th {\n",
       "        text-align: right;\n",
       "    }\n",
       "</style>\n",
       "<table border=\"1\" class=\"dataframe\">\n",
       "  <thead>\n",
       "    <tr style=\"text-align: right;\">\n",
       "      <th></th>\n",
       "      <th>CPU</th>\n",
       "      <th>MEM</th>\n",
       "      <th>REC</th>\n",
       "      <th>TRAN</th>\n",
       "      <th>Status</th>\n",
       "    </tr>\n",
       "  </thead>\n",
       "  <tbody>\n",
       "    <tr>\n",
       "      <th>count</th>\n",
       "      <td>1.201700e+04</td>\n",
       "      <td>1.201600e+04</td>\n",
       "      <td>1.201600e+04</td>\n",
       "      <td>1.201600e+04</td>\n",
       "      <td>12016.0</td>\n",
       "    </tr>\n",
       "    <tr>\n",
       "      <th>mean</th>\n",
       "      <td>2.670903e+09</td>\n",
       "      <td>7.556654e+10</td>\n",
       "      <td>2.341185e+06</td>\n",
       "      <td>3.307101e+07</td>\n",
       "      <td>1.0</td>\n",
       "    </tr>\n",
       "    <tr>\n",
       "      <th>std</th>\n",
       "      <td>5.109093e+08</td>\n",
       "      <td>1.014202e+08</td>\n",
       "      <td>3.740553e+06</td>\n",
       "      <td>7.735839e+07</td>\n",
       "      <td>0.0</td>\n",
       "    </tr>\n",
       "    <tr>\n",
       "      <th>min</th>\n",
       "      <td>1.403000e+09</td>\n",
       "      <td>7.536430e+10</td>\n",
       "      <td>6.338560e+05</td>\n",
       "      <td>1.751040e+05</td>\n",
       "      <td>1.0</td>\n",
       "    </tr>\n",
       "    <tr>\n",
       "      <th>25%</th>\n",
       "      <td>2.286000e+09</td>\n",
       "      <td>7.549747e+10</td>\n",
       "      <td>9.482240e+05</td>\n",
       "      <td>3.220480e+05</td>\n",
       "      <td>1.0</td>\n",
       "    </tr>\n",
       "    <tr>\n",
       "      <th>50%</th>\n",
       "      <td>2.602000e+09</td>\n",
       "      <td>7.554204e+10</td>\n",
       "      <td>1.216000e+06</td>\n",
       "      <td>4.229120e+05</td>\n",
       "      <td>1.0</td>\n",
       "    </tr>\n",
       "    <tr>\n",
       "      <th>75%</th>\n",
       "      <td>2.993000e+09</td>\n",
       "      <td>7.559984e+10</td>\n",
       "      <td>3.092480e+06</td>\n",
       "      <td>4.880640e+06</td>\n",
       "      <td>1.0</td>\n",
       "    </tr>\n",
       "    <tr>\n",
       "      <th>max</th>\n",
       "      <td>5.759500e+09</td>\n",
       "      <td>7.591376e+10</td>\n",
       "      <td>1.478758e+08</td>\n",
       "      <td>3.052544e+08</td>\n",
       "      <td>1.0</td>\n",
       "    </tr>\n",
       "  </tbody>\n",
       "</table>\n",
       "</div>"
      ],
      "text/plain": [
       "                CPU           MEM           REC          TRAN   Status\n",
       "count  1.201700e+04  1.201600e+04  1.201600e+04  1.201600e+04  12016.0\n",
       "mean   2.670903e+09  7.556654e+10  2.341185e+06  3.307101e+07      1.0\n",
       "std    5.109093e+08  1.014202e+08  3.740553e+06  7.735839e+07      0.0\n",
       "min    1.403000e+09  7.536430e+10  6.338560e+05  1.751040e+05      1.0\n",
       "25%    2.286000e+09  7.549747e+10  9.482240e+05  3.220480e+05      1.0\n",
       "50%    2.602000e+09  7.554204e+10  1.216000e+06  4.229120e+05      1.0\n",
       "75%    2.993000e+09  7.559984e+10  3.092480e+06  4.880640e+06      1.0\n",
       "max    5.759500e+09  7.591376e+10  1.478758e+08  3.052544e+08      1.0"
      ]
     },
     "execution_count": 38,
     "metadata": {},
     "output_type": "execute_result"
    }
   ],
   "source": [
    "df_all.describe()"
   ]
  },
  {
   "cell_type": "code",
   "execution_count": 39,
   "metadata": {},
   "outputs": [
    {
     "data": {
      "text/plain": [
       "Index(['Time', 'CPU', 'MEM', 'REC', 'TRAN', 'Status'], dtype='object')"
      ]
     },
     "execution_count": 39,
     "metadata": {},
     "output_type": "execute_result"
    }
   ],
   "source": [
    "df.columns"
   ]
  },
  {
   "cell_type": "code",
   "execution_count": 51,
   "metadata": {},
   "outputs": [],
   "source": [
    "from sklearn.decomposition import PCA\n",
    "from sklearn.preprocessing import scale\n",
    "from sklearn.preprocessing import MinMaxScaler, StandardScaler\n",
    "\n",
    "def data_process(df, n_components=2):\n",
    "    DROP_VARIABLES = ['Time','Status']\n",
    "    df = df.drop(DROP_VARIABLES, axis=1)\n",
    "    df = df.fillna(df.mean())\n",
    "    scaler = MinMaxScaler()\n",
    "    #scaler = StandardScaler()\n",
    "    X_scaled = scaler.fit_transform(df)\n",
    "    pca = PCA(n_components=n_components)\n",
    "   ## Estimation, calcul des composantes principales\n",
    "    X_pca= pca.fit(X_scaled).transform(X_scaled)\n",
    "    ratio = sum(pca.explained_variance_ratio_)*100\n",
    "    return X_pca, ratio\n"
   ]
  },
  {
   "cell_type": "code",
   "execution_count": 52,
   "metadata": {},
   "outputs": [
    {
     "data": {
      "text/plain": [
       "87.759132922524"
      ]
     },
     "execution_count": 52,
     "metadata": {},
     "output_type": "execute_result"
    }
   ],
   "source": [
    "data_process(df_all,n_components=2)[1]"
   ]
  },
  {
   "cell_type": "code",
   "execution_count": 53,
   "metadata": {},
   "outputs": [
    {
     "data": {
      "text/plain": [
       "87.75913292252405"
      ]
     },
     "execution_count": 53,
     "metadata": {},
     "output_type": "execute_result"
    }
   ],
   "source": [
    "data_process(insa,n_components=2)[1]"
   ]
  },
  {
   "cell_type": "code",
   "execution_count": 54,
   "metadata": {},
   "outputs": [],
   "source": [
    "df_scaled = data_process(df_all, n_components= 2)[0]"
   ]
  },
  {
   "cell_type": "code",
   "execution_count": null,
   "metadata": {},
   "outputs": [],
   "source": []
  },
  {
   "cell_type": "code",
   "execution_count": 55,
   "metadata": {},
   "outputs": [],
   "source": [
    "# some params\n",
    "contamination = 0.01\n",
    "random_state = 78"
   ]
  },
  {
   "cell_type": "code",
   "execution_count": null,
   "metadata": {},
   "outputs": [],
   "source": []
  },
  {
   "cell_type": "markdown",
   "metadata": {},
   "source": [
    "# Isolation forest"
   ]
  },
  {
   "cell_type": "code",
   "execution_count": 56,
   "metadata": {},
   "outputs": [],
   "source": [
    "import matplotlib.pyplot as plt\n",
    "from sklearn.ensemble import IsolationForest"
   ]
  },
  {
   "cell_type": "code",
   "execution_count": 57,
   "metadata": {},
   "outputs": [],
   "source": [
    "clf = IsolationForest(behaviour='new', max_samples=100,\n",
    "                      random_state=147, contamination=0.01)\n",
    "# contamination = 0.02 says that we fixed 2% of outliers \n",
    "clf.fit(df_scaled)\n",
    "y_pred_train = clf.predict(df_scaled)"
   ]
  },
  {
   "cell_type": "code",
   "execution_count": 58,
   "metadata": {},
   "outputs": [
    {
     "data": {
      "image/png": "[encoded data removed]",
      "text/plain": [
       "<Figure size 720x360 with 1 Axes>"
      ]
     },
     "metadata": {
      "needs_background": "light"
     },
     "output_type": "display_data"
    }
   ],
   "source": [
    "plt.figure(figsize=(10,5))\n",
    "plt.scatter(df_scaled[:,0], df_scaled[:,1])\n",
    "#plt.plot([1,2,3], [3,4,5])\n",
    "outliers = df_scaled[y_pred_train==-1]\n",
    "plt.scatter(outliers[:,0], outliers[:,1], color='red')\n",
    "plt.show()"
   ]
  },
  {
   "cell_type": "code",
   "execution_count": 59,
   "metadata": {},
   "outputs": [
    {
     "data": {
      "text/plain": [
       "87.75913292252405"
      ]
     },
     "execution_count": 59,
     "metadata": {},
     "output_type": "execute_result"
    }
   ],
   "source": [
    "data_process(insa,n_components=2)[1]"
   ]
  },
  {
   "cell_type": "markdown",
   "metadata": {},
   "source": [
    "With 2 dimensional reduction, we get also 87.7% of variance, which is a good PCA. This method give a good visualization for our model.\n",
    " However, we see that our data separate clearly in 2 groups, and have a particular  geometric form. We must to find a method that is more convenient for this data."
   ]
  },
  {
   "cell_type": "markdown",
   "metadata": {},
   "source": [
    "# Method ElipticEnvelope-Method using Mahanalobis metric"
   ]
  },
  {
   "cell_type": "code",
   "execution_count": 60,
   "metadata": {},
   "outputs": [
    {
     "data": {
      "image/png": "[encoded data removed]",
      "text/plain": [
       "<Figure size 720x360 with 1 Axes>"
      ]
     },
     "metadata": {
      "needs_background": "light"
     },
     "output_type": "display_data"
    }
   ],
   "source": [
    "from sklearn.covariance import EllipticEnvelope\n",
    "cov = EllipticEnvelope(random_state=random_state, contamination=contamination).fit(df_scaled)\n",
    "y_pred_train_ellipticEnvelope = cov.predict(df_scaled)\n",
    "\n",
    "plt.figure(figsize=(10,5))\n",
    "plt.scatter(df_scaled[:,0], df_scaled[:,1])\n",
    "#plt.plot([1,2,3], [3,4,5])\n",
    "outliers = df_scaled[y_pred_train_ellipticEnvelope==-1]\n",
    "plt.scatter(outliers[:,0], outliers[:,1], color='red')\n",
    "plt.show()"
   ]
  },
  {
   "cell_type": "markdown",
   "metadata": {},
   "source": [
    "# Nearest Neighbors"
   ]
  },
  {
   "cell_type": "code",
   "execution_count": 61,
   "metadata": {},
   "outputs": [
    {
     "data": {
      "image/png": "[encoded data removed]",
      "text/plain": [
       "<Figure size 720x360 with 1 Axes>"
      ]
     },
     "metadata": {
      "needs_background": "light"
     },
     "output_type": "display_data"
    }
   ],
   "source": [
    "from sklearn.neighbors import LocalOutlierFactor\n",
    "neigh = LocalOutlierFactor(n_neighbors=3, contamination=contamination)\n",
    "y_pred_train_neigh = neigh.fit_predict(df_scaled)\n",
    "#y_pred_train_neigh = neigh.predict(df_scaled)\n",
    "\n",
    "plt.figure(figsize=(10,5))\n",
    "plt.scatter(df_scaled[:,0], df_scaled[:,1])\n",
    "outliers = df_scaled[y_pred_train_neigh==-1]\n",
    "plt.scatter(outliers[:,0], outliers[:,1], color='red')\n",
    "plt.show()"
   ]
  },
  {
   "cell_type": "code",
   "execution_count": null,
   "metadata": {},
   "outputs": [],
   "source": []
  }
 ],
 "metadata": {
  "kernelspec": {
   "display_name": "Python 3",
   "language": "python",
   "name": "python3"
  },
  "language_info": {
   "codemirror_mode": {
    "name": "ipython",
    "version": 3
   },
   "file_extension": ".py",
   "mimetype": "text/x-python",
   "name": "python",
   "nbconvert_exporter": "python",
   "pygments_lexer": "ipython3",
   "version": "3.6.8"
  }
 },
 "nbformat": 4,
 "nbformat_minor": 2
}
