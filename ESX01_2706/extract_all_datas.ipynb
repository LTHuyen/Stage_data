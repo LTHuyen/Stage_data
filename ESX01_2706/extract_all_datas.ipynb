{
 "cells": [
  {
   "cell_type": "code",
   "execution_count": 1,
   "metadata": {},
   "outputs": [
    {
     "name": "stdout",
     "output_type": "stream",
     "text": [
      "Appren_R_ESX.R             MD.png\r\n",
      "Apprent-R-ESX-Copy1.ipynb  PCA.ipynb\r\n",
      "Apprent-R-ESX.ipynb        RF.png\r\n",
      "DepSeuil.png               SVM.png\r\n",
      "ESX01_1907.csv             URF.png\r\n",
      "ESX01_2706 - Copie (2).csv biplot.png\r\n",
      "ESX01_2706 - Copie.csv     boxplot.png\r\n",
      "ESX01_2706-Copy1.ipynb     data_processing.ipynb\r\n",
      "ESX01_2706.csv             extract_all_datas.ipynb\r\n",
      "ESX01_2706.ipynb           \u001b[34mimages\u001b[m\u001b[m\r\n",
      "ESX01_2706_1.csv           pairs.png\r\n",
      "ESX01_2706_S.csv           screeplot.png\r\n",
      "ESX01_class.csv            time.png\r\n",
      "LOF.png\r\n"
     ]
    }
   ],
   "source": [
    "!ls"
   ]
  }
 ],
 "metadata": {
  "kernelspec": {
   "display_name": "Python 3",
   "language": "python",
   "name": "python3"
  },
  "language_info": {
   "codemirror_mode": {
    "name": "ipython",
    "version": 3
   },
   "file_extension": ".py",
   "mimetype": "text/x-python",
   "name": "python",
   "nbconvert_exporter": "python",
   "pygments_lexer": "ipython3",
   "version": "3.6.8"
  }
 },
 "nbformat": 4,
 "nbformat_minor": 2
}
